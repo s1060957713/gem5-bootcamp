{
 "cells": [
  {
   "cell_type": "code",
   "execution_count": 2,
   "metadata": {},
   "outputs": [
    {
     "ename": "ModuleNotFoundError",
     "evalue": "No module named 'pandas'",
     "output_type": "error",
     "traceback": [
      "\u001b[0;31m---------------------------------------------------------------------------\u001b[0m",
      "\u001b[0;31mModuleNotFoundError\u001b[0m                       Traceback (most recent call last)",
      "\u001b[1;32m/workspaces/gem5-bootcamp-env/materials/using-gem5/03-running/plots.ipynb Cell 1'\u001b[0m in \u001b[0;36m<cell line: 1>\u001b[0;34m()\u001b[0m\n\u001b[0;32m----> <a href='vscode-notebook-cell://codespaces%2Bmbabaie-gem5bootcamp-gem5-bootcamp-env-9g9v6r7qfrwq/workspaces/gem5-bootcamp-env/materials/using-gem5/03-running/plots.ipynb#ch0000000vscode-remote?line=0'>1</a>\u001b[0m \u001b[39mimport\u001b[39;00m \u001b[39mpandas\u001b[39;00m \u001b[39mas\u001b[39;00m \u001b[39mpd\u001b[39;00m\n\u001b[1;32m      <a href='vscode-notebook-cell://codespaces%2Bmbabaie-gem5bootcamp-gem5-bootcamp-env-9g9v6r7qfrwq/workspaces/gem5-bootcamp-env/materials/using-gem5/03-running/plots.ipynb#ch0000000vscode-remote?line=1'>2</a>\u001b[0m \u001b[39mimport\u001b[39;00m \u001b[39mnumpy\u001b[39;00m \u001b[39mas\u001b[39;00m \u001b[39mnp\u001b[39;00m\n\u001b[1;32m      <a href='vscode-notebook-cell://codespaces%2Bmbabaie-gem5bootcamp-gem5-bootcamp-env-9g9v6r7qfrwq/workspaces/gem5-bootcamp-env/materials/using-gem5/03-running/plots.ipynb#ch0000000vscode-remote?line=2'>3</a>\u001b[0m \u001b[39mimport\u001b[39;00m \u001b[39msys\u001b[39;00m\n",
      "\u001b[0;31mModuleNotFoundError\u001b[0m: No module named 'pandas'"
     ]
    }
   ],
   "source": [
    "import pandas as pd\n",
    "import numpy as np\n",
    "import sys\n",
    "from matplotlib import pyplot as plt\n",
    "import os"
   ]
  },
  {
   "cell_type": "code",
   "execution_count": null,
   "metadata": {},
   "outputs": [],
   "source": [
    "datadir = '/workspaces/gem5-bootcamp-env/traffGenRes'"
   ]
  },
  {
   "cell_type": "code",
   "execution_count": null,
   "metadata": {},
   "outputs": [],
   "source": [
    "def getStat(filename, stat):\n",
    "    #filename = os.path.join(datadir, '', filename, 'stats.txt').replace('\\\\','/')\n",
    "    #print(stat)\n",
    "    #print(filename)\n",
    "    try:\n",
    "        with open(filename) as f:\n",
    "            readlines = f.readlines()\n",
    "            for l in readlines:\n",
    "                if stat in l:\n",
    "                    return l\n",
    "            return 0.0 #for cases where stat was not found\n",
    "    except: #for cases where the file was not found\n",
    "        return 0.0"
   ]
  },
  {
   "cell_type": "code",
   "execution_count": null,
   "metadata": {},
   "outputs": [],
   "source": [
    "Stats = ['system.generator.readBW',\n",
    "         'system.generator.writeBW']\n",
    "\n",
    "modes = ['gem5', 'gem5_dcache', 'gem5_dcache_old', 'gem5_dcache_all_memory']\n",
    "devices = ['ddr3', 'ddr4', 'hbm']\n",
    "inj_rate = ['20', '40', '60']\n",
    "pattern = ['linear', 'random']\n",
    "rd_prct = ['100', '70', '0']\n",
    "duration = ['10ms']"
   ]
  },
  {
   "cell_type": "code",
   "execution_count": null,
   "metadata": {},
   "outputs": [],
   "source": [
    "#if pdf v1.5 is not used the hatches in generated figs do not show up on certain pdf viewers\n",
    "# this function takes care of that issue\n",
    "def savepdfviasvg(fig, name, **kwargs):\n",
    "    import subprocess\n",
    "    fig.savefig(name+\".svg\", format=\"svg\", **kwargs)\n",
    "    incmd = [\"inkscape\", name+\".svg\", \"--export-pdf={}.pdf\".format(name),\n",
    "             \"--export-pdf-version=1.5\"] #\"--export-ignore-filters\",\n",
    "    subprocess.check_output(incmd)"
   ]
  },
  {
   "cell_type": "code",
   "execution_count": null,
   "metadata": {},
   "outputs": [],
   "source": [
    "rows = []\n",
    "\n",
    "for pat in pattern:\n",
    "    for inj in inj_rate:\n",
    "        for dev in devices:\n",
    "            for rds in rd_prct:\n",
    "                for dur in duration:\n",
    "                    for mod in modes:\n",
    "                        stats = [pat, inj, dev, rds, dur, mod]\n",
    "                        for stat in Stats:\n",
    "                            time_file_path = '{}/results_{}/{}_{}_{}_{}_{}/stats.txt'.format(datadir, mod, pat, dur, dev, inj, rds)\n",
    "                            ret_line = getStat(time_file_path,stat)\n",
    "                        \n",
    "                            if ret_line != 0:\n",
    "                                stat_val = ret_line.split()[1]\n",
    "                            else:\n",
    "                                stat_val = 1\n",
    "                            stats.append(stat_val)\n",
    "        \n",
    "                        rows.append(stats) \n",
    "\n",
    "\n",
    "df = pd.DataFrame(rows, columns=['pattern','inj_rate','device','rd_perct','duration','mode',\n",
    "                                 'readBW', 'writeBW'])"
   ]
  },
  {
   "cell_type": "code",
   "execution_count": null,
   "metadata": {},
   "outputs": [],
   "source": [
    "df['totBW'] = df['readBW'].astype(float) + df['writeBW'].astype(float)"
   ]
  },
  {
   "cell_type": "code",
   "execution_count": null,
   "metadata": {},
   "outputs": [],
   "source": [
    "def doplot_stat(pat, inj, duration, device, stat):   \n",
    "    i = 0\n",
    "    \n",
    "    for r, rdp in enumerate(rd_prct):\n",
    "        \n",
    "        for m, mod in enumerate(modes):\n",
    "            \n",
    "            d = df[(df['pattern']==pat) & (df['inj_rate']==inj) & (df['duration']==duration) & \n",
    "                  (df['device']==device) & (df['mode']==mod) & (df['rd_perct']==rdp)]\n",
    "            \n",
    "            \n",
    "            if stat == 'readBW' or stat == 'writeBW' or stat == 'totBW':\n",
    "                #print(float(d[stat].iloc[0]))\n",
    "                plt.bar(i, float(d[stat].iloc[0])/(1024*1024*1024), color='C'+str(m))    \n",
    "            else:\n",
    "                plt.bar(i, float(d[stat].iloc[0]), color='C'+str(j))\n",
    "            \n",
    "            i = i+1\n",
    "\n",
    "        i = i+1\n",
    "                    \n",
    "    for i,pfrm in enumerate(['gem5', 'gem5_unified', 'gem5_multiq', 'gem5_multiq_miss']):\n",
    "        plt.bar(0,0,color='C'+str(i), label=pfrm)\n",
    "    plt.xticks([0,1,2,3,5,6,7,8,10,11,12,13], ['gem5','gem5_uni','gem5_mq','gem5_mqmiss','gem5','gem5_uni', \n",
    "                                               'gem5_mq','gem5_mqmiss','gem5', 'gem5_uni','gem5_mq',\n",
    "                                               'gem5_mqmiss'], rotation=90, ha='center',fontsize=8)"
   ]
  },
  {
   "cell_type": "code",
   "execution_count": null,
   "metadata": {},
   "outputs": [],
   "source": [
    "fig_size = plt.rcParams[\"figure.figsize\"]\n",
    "fig_size[0] = 6\n",
    "fig_size[1] = 2.5\n",
    "\n",
    "plt.figure()\n",
    "\n",
    "doplot_stat('linear', '60', '10ms', 'ddr4', 'totBW')\n",
    "\n",
    "plt.ylabel('Bandwidth (GB/s)')\n",
    "plt.ylim(ymax=20)\n",
    "#plt.text(18.4, 100, '220', fontsize=7, color='C'+str(1), bbox=dict(boxstyle=\"square\", \n",
    "#                   ec=(1., 0.5, 0.5),\n",
    "#                   fc=(1., 0.8, 0.8),\n",
    "#                   ))\n",
    "plt.legend(loc=9, ncol=4, prop={'size': 7}, frameon=0)\n",
    "plt.title('Total Bandwidth (All Reads, 70% Reads, No Reads) --- DDR4 --- inj : 60GB/s', fontsize=8)\n",
    "#plt.yscale(\"log\")\n",
    "plt.tight_layout()\n",
    "#plt.savefig('sev_perf_npb_c', format='pdf', dpi=1000)\n",
    "#savepdfviasvg(plt, \"sev_perf_default_npb_c\")"
   ]
  }
 ],
 "metadata": {
  "kernelspec": {
   "display_name": "Python 3.8.10 64-bit",
   "language": "python",
   "name": "python3"
  },
  "language_info": {
   "codemirror_mode": {
    "name": "ipython",
    "version": 3
   },
   "file_extension": ".py",
   "mimetype": "text/x-python",
   "name": "python",
   "nbconvert_exporter": "python",
   "pygments_lexer": "ipython3",
   "version": "3.8.10"
  },
  "orig_nbformat": 4,
  "vscode": {
   "interpreter": {
    "hash": "e7370f93d1d0cde622a1f8e1c04877d8463912d04d973331ad4851f04de6915a"
   }
  }
 },
 "nbformat": 4,
 "nbformat_minor": 2
}
